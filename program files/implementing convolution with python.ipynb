{
 "cells": [
  {
   "cell_type": "code",
   "execution_count": 1,
   "metadata": {},
   "outputs": [],
   "source": [
    "import numpy as np\n",
    "import cv2\n",
    "from skimage.exposure import rescale_intensity\n",
    "import os"
   ]
  },
  {
   "cell_type": "code",
   "execution_count": 2,
   "metadata": {},
   "outputs": [],
   "source": [
    "kernal_size = [3,3]\n",
    "padding = kernal_size[0]//2\n",
    "\n",
    "\n",
    "avaliable = ['baggage_claim.jpg','dining_table.jpg','living_room.jpg','soccer.jpg']\n",
    "image_directory = '/Users/sanjaymsanthosh/Desktop/projects/project 2019/human detection/yolo/yolo-object-detection/images/'\n",
    "image_location = os.path.join(image_directory,avaliable[1])"
   ]
  },
  {
   "cell_type": "code",
   "execution_count": 3,
   "metadata": {},
   "outputs": [],
   "source": [
    "def convolve(image, kernel):\n",
    "    # Get the dimensions of the image and kernel\n",
    "    (img_h, img_w) = image.shape[:2]\n",
    "    (ker_h, ker_w) = kernel.shape[:2]\n",
    "\n",
    "    # Allocate memory of the output image, ensuring to 'pad' the borders of the input image so the spacial size\n",
    "    # (i.e. width and height) are not reduced\n",
    "    pad = (ker_w - 1) // 2\n",
    "    image = cv2.copyMakeBorder(image, pad, pad, pad, pad, cv2.BORDER_REPLICATE)\n",
    "    output = np.zeros((img_h, img_w), dtype='float')\n",
    "\n",
    "    # Loop over the input image, 'sliding' the kernel across each (x, y) coordinate from left-to-right and\n",
    "    # top-to-bottom\n",
    "    for y in np.arange(pad, img_h + pad):\n",
    "        for x in np.arange(pad, img_w + pad):\n",
    "            # Extract the ROI of the image by extracting the 'center' region of the current (x, y) coordinates\n",
    "            # dimensions\n",
    "            roi = image[y - pad:y + pad + 1, x - pad:x + pad + 1]\n",
    "\n",
    "            # Perform the actual convolution\n",
    "            k = (roi * kernel).sum()\n",
    "\n",
    "            # Store the convolved value in the (x, y) coordinate of the output image\n",
    "            output[y - pad, x - pad] = k\n",
    "\n",
    "    # Rescale the output image to be in the range [0, 255]\n",
    "    output = rescale_intensity(output, in_range=(0, 255))\n",
    "    output = (output * 255).astype('uint8')\n",
    "\n",
    "    # Return the output image\n",
    "    return output\n"
   ]
  },
  {
   "cell_type": "code",
   "execution_count": 4,
   "metadata": {},
   "outputs": [],
   "source": [
    "small_blur = np.ones((7, 7), dtype='float') * (1.0 / (7 * 7))\n",
    "large_blur = np.ones((21, 21), dtype='float') * (1.0 / (21 * 21))\n",
    "\n",
    "# Construct a sharpening filter\n",
    "sharpen = np.array(([0, -1, 0],\n",
    "                    [-1, 5, -1],\n",
    "                    [0, -1, 0]), dtype='float')\n",
    "\n",
    "# Construct the Laplacian kernel used to detect edge-like regions of an image\n",
    "laplacian = np.array(([0, 1, 0],\n",
    "                      [1, -4, 1],\n",
    "                      [0, 1, 0]), dtype='int')\n",
    "\n",
    "# Construct the Sobel x-axis kernel\n",
    "sobel_x = np.array(([-1, 0, 1],\n",
    "                    [-2, 0, 2],\n",
    "                    [-1, 0, 1]), dtype='int')\n",
    "\n",
    "# Construct the Sobel y-axis kernel\n",
    "sobel_y = np.array(([-1, -2, -1],\n",
    "                    [0, 0, 0],\n",
    "                    [1, 2, 1]), dtype='int')\n",
    "\n",
    "# Construct an emboss kernel\n",
    "emboss = np.array(([-2, -1, 0],\n",
    "                   [-1, 1, 1],\n",
    "                   [0, 1, 2]), dtype='int')"
   ]
  },
  {
   "cell_type": "code",
   "execution_count": 5,
   "metadata": {},
   "outputs": [],
   "source": [
    "kernel_bank = (('small_blur', small_blur),\n",
    "               ('large_blur', large_blur),\n",
    "               ('sharpen', sharpen),\n",
    "               ('laplacian', laplacian),\n",
    "               ('sobel_x', sobel_x),\n",
    "               ('sobel_y', sobel_y),\n",
    "               ('emboss', emboss))"
   ]
  },
  {
   "cell_type": "code",
   "execution_count": 6,
   "metadata": {},
   "outputs": [],
   "source": [
    "image = cv2.imread(image_location)\n",
    "grey = cv2.cvtColor(image,cv2.COLOR_BGR2GRAY)\n",
    "\n"
   ]
  },
  {
   "cell_type": "code",
   "execution_count": 7,
   "metadata": {},
   "outputs": [
    {
     "name": "stdout",
     "output_type": "stream",
     "text": [
      "[INFO]: Applying small_blur kernel\n",
      "[INFO]: Applying large_blur kernel\n",
      "[INFO]: Applying sharpen kernel\n",
      "[INFO]: Applying laplacian kernel\n",
      "[INFO]: Applying sobel_x kernel\n",
      "[INFO]: Applying sobel_y kernel\n",
      "[INFO]: Applying emboss kernel\n"
     ]
    }
   ],
   "source": [
    "for (kernel_name, kernel) in kernel_bank:\n",
    "    # Apply the kernel to the greyscale image using both 'convolve' functions\n",
    "    print('[INFO]: Applying {} kernel'.format(kernel_name))\n",
    "    convolve_output = convolve(grey, kernel)\n",
    "    opencv_output = cv2.filter2D(grey, -1, kernel)\n",
    "\n",
    "    # Show the output image\n",
    "    cv2.imshow('Original', grey)\n",
    "    cv2.imshow('{} - convolve'.format(kernel_name), convolve_output)\n",
    "    cv2.imshow('{} - filter2D'.format(kernel_name), opencv_output)\n",
    "    cv2.waitKey(0)\n",
    "    cv2.destroyAllWindows()"
   ]
  },
  {
   "cell_type": "code",
   "execution_count": null,
   "metadata": {},
   "outputs": [],
   "source": []
  }
 ],
 "metadata": {
  "kernelspec": {
   "display_name": "Python 3",
   "language": "python",
   "name": "python3"
  },
  "language_info": {
   "codemirror_mode": {
    "name": "ipython",
    "version": 3
   },
   "file_extension": ".py",
   "mimetype": "text/x-python",
   "name": "python",
   "nbconvert_exporter": "python",
   "pygments_lexer": "ipython3",
   "version": "3.7.3"
  }
 },
 "nbformat": 4,
 "nbformat_minor": 2
}
